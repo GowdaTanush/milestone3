{
 "cells": [
  {
   "cell_type": "markdown",
   "metadata": {},
   "source": [
    "# <center>Time Series Forecasting of Sales</center>"
   ]
  },
  {
   "cell_type": "markdown",
   "metadata": {},
   "source": [
    "Forecasting the monthly sales of a XYZ company using time series modeling techniques. The dataset spans from January 1964 to September 1972, recording monthly sales figures. Accurate forecasting of sales is essential for strategic planning in production, inventory, and marketing. The inherent seasonality and trend observed in the data make it a suitable candidate for advanced time series models.\n",
    "\n",
    "The XYZ company aims to improve its operational efficiency by forecasting future sales accurately. Relying on historical monthly sales data, the objective is to:\n",
    "\n",
    "- Identify patterns such as trend and seasonality in the sales data.\n",
    "- Build and evaluate ARIMA and SARIMA models.\n",
    "- Generate sales forecasts for future months based on historical trends.\n",
    "\n",
    "The key challenge is to model the time series behavior of the data appropriately, taking into account any seasonal spikes (e.g., holiday sales) and long-term trends, and to forecast sales for future months to support data-driven decision-making."
   ]
  },
  {
   "cell_type": "markdown",
   "metadata": {},
   "source": [
    "* ARIMA - Auto-Regressive Integrated Moving Average\n",
    "* SARIMA - Seasonal Autoregressive Integrated Moving Average"
   ]
  },
  {
   "cell_type": "markdown",
   "metadata": {},
   "source": [
    "## Dataset and Objective:"
   ]
  },
  {
   "cell_type": "markdown",
   "metadata": {},
   "source": [
    "```Objective:```\n",
    "* Use time series concepts to forecast sales\n",
    "* The dataset is monthly sales of XYZ from year 1964 to 1972"
   ]
  },
  {
   "cell_type": "markdown",
   "metadata": {},
   "source": [
    "The data contains 2 columns:\n",
    "\n",
    "- **month:** contains the month data\n",
    "- **Perrin Freres monthly XYZ sales millions:** contains the monthly champagne sales values in millions"
   ]
  },
  {
   "cell_type": "markdown",
   "metadata": {},
   "source": [
    "\n",
    "## Steps to achieve the objective:\n",
    "\n",
    "0. Importing Necessary Libraries\n",
    "1. Loading and Preprocessing of Dataset (Time series data)\n",
    "2. Visualize the Time Series Data\n",
    "3. Check the stationarity of time series data\n",
    "4. If not stationary  -- > Make the time series data stationary\n",
    "5. Plot the Correlation and AutoCorrelation Charts\n",
    "6. Construct the ARIMA Model or Seasonal ARIMA based on the data\n",
    "7. Use the model to make predictions"
   ]
  },
  {
   "cell_type": "code",
   "execution_count": null,
   "metadata": {},
   "outputs": [],
   "source": []
  },
  {
   "cell_type": "markdown",
   "metadata": {},
   "source": [
    "## Importing Necessary Libraries:"
   ]
  },
  {
   "cell_type": "code",
   "execution_count": 1,
   "metadata": {},
   "outputs": [],
   "source": [
    "# Importing libraries:\n",
    "\n",
    "import numpy as np\n",
    "import pandas as pd\n",
    "\n",
    "import statsmodels.api as sm\n",
    "from statsmodels.tsa.stattools import adfuller\n",
    "from statsmodels.tsa.seasonal import seasonal_decompose\n",
    "from statsmodels.tsa.arima.model import ARIMA\n",
    "from statsmodels.tsa.statespace.sarimax import SARIMAX\n",
    "from statsmodels.graphics.tsaplots import plot_pacf, plot_acf\n",
    "\n",
    "import seaborn as sns\n",
    "import matplotlib.pyplot as plt\n",
    "%matplotlib inline\n",
    "\n",
    "import warnings\n",
    "warnings.filterwarnings('ignore')"
   ]
  },
  {
   "cell_type": "markdown",
   "metadata": {},
   "source": [
    "## Task 1 : Load the dataset and perform preliminary EDA (Exploratory Data Analysis) with key observations and insights-  (weightage - 40 marks)"
   ]
  },
  {
   "cell_type": "markdown",
   "metadata": {},
   "source": [
    "#### 1.1. Loading and Pre-processing Dataset: (weightage - 5 marks) (AE)"
   ]
  },
  {
   "cell_type": "code",
   "execution_count": 21,
   "metadata": {},
   "outputs": [
    {
     "data": {
      "text/html": [
       "<div>\n",
       "<style scoped>\n",
       "    .dataframe tbody tr th:only-of-type {\n",
       "        vertical-align: middle;\n",
       "    }\n",
       "\n",
       "    .dataframe tbody tr th {\n",
       "        vertical-align: top;\n",
       "    }\n",
       "\n",
       "    .dataframe thead th {\n",
       "        text-align: right;\n",
       "    }\n",
       "</style>\n",
       "<table border=\"1\" class=\"dataframe\">\n",
       "  <thead>\n",
       "    <tr style=\"text-align: right;\">\n",
       "      <th></th>\n",
       "      <th>Month</th>\n",
       "      <th>Perrin Freres monthly champagne sales millions ?64-?72</th>\n",
       "    </tr>\n",
       "  </thead>\n",
       "  <tbody>\n",
       "    <tr>\n",
       "      <th>0</th>\n",
       "      <td>1964-01</td>\n",
       "      <td>2815</td>\n",
       "    </tr>\n",
       "    <tr>\n",
       "      <th>1</th>\n",
       "      <td>1964-02</td>\n",
       "      <td>2672</td>\n",
       "    </tr>\n",
       "    <tr>\n",
       "      <th>2</th>\n",
       "      <td>1964-03</td>\n",
       "      <td>2755</td>\n",
       "    </tr>\n",
       "    <tr>\n",
       "      <th>3</th>\n",
       "      <td>1964-04</td>\n",
       "      <td>2721</td>\n",
       "    </tr>\n",
       "    <tr>\n",
       "      <th>4</th>\n",
       "      <td>1964-05</td>\n",
       "      <td>2946</td>\n",
       "    </tr>\n",
       "  </tbody>\n",
       "</table>\n",
       "</div>"
      ],
      "text/plain": [
       "     Month  Perrin Freres monthly champagne sales millions ?64-?72\n",
       "0  1964-01                                               2815     \n",
       "1  1964-02                                               2672     \n",
       "2  1964-03                                               2755     \n",
       "3  1964-04                                               2721     \n",
       "4  1964-05                                               2946     "
      ]
     },
     "execution_count": 21,
     "metadata": {},
     "output_type": "execute_result"
    }
   ],
   "source": [
    "# Reading sales data\n",
    "\n",
    "def load_the_dataset():\n",
    "    try:\n",
    "        #code starts here\n",
    "        data = pd.read_csv(\"sales_data.csv\")\n",
    "        # data['Perrin Freres monthly champagne sales millions ?64-?72'] = data['Perrin Freres monthly champagne sales millions ?64-?72'].astype(float)\n",
    "        return data\n",
    "    except :\n",
    "        print(\"File not found. Please check the file path.\")\n",
    "        #code ends here\n",
    "\n",
    "# store the result of the dataset\n",
    "sales=load_the_dataset()\n",
    "sales.head()"
   ]
  },
  {
   "cell_type": "raw",
   "metadata": {},
   "source": [
    "#### Expected output\n",
    "\n",
    "Month\tPerrin Freres monthly champagne sales millions ?64-?72\n",
    "0\t1964-01\t2815.0\n",
    "1\t1964-02\t2672.0\n",
    "2\t1964-03\t2755.0\n",
    "3\t1964-04\t2721.0\n",
    "4\t1964-05\t2946.0\n"
   ]
  },
  {
   "cell_type": "markdown",
   "metadata": {},
   "source": [
    "#### T1.2  Rename columns for clarity (Month, Sales) (weightage - 5 marks) (AE)"
   ]
  },
  {
   "cell_type": "code",
   "execution_count": 22,
   "metadata": {},
   "outputs": [
    {
     "data": {
      "text/html": [
       "<div>\n",
       "<style scoped>\n",
       "    .dataframe tbody tr th:only-of-type {\n",
       "        vertical-align: middle;\n",
       "    }\n",
       "\n",
       "    .dataframe tbody tr th {\n",
       "        vertical-align: top;\n",
       "    }\n",
       "\n",
       "    .dataframe thead th {\n",
       "        text-align: right;\n",
       "    }\n",
       "</style>\n",
       "<table border=\"1\" class=\"dataframe\">\n",
       "  <thead>\n",
       "    <tr style=\"text-align: right;\">\n",
       "      <th></th>\n",
       "      <th>Month</th>\n",
       "      <th>Sales</th>\n",
       "    </tr>\n",
       "  </thead>\n",
       "  <tbody>\n",
       "    <tr>\n",
       "      <th>0</th>\n",
       "      <td>1964-01</td>\n",
       "      <td>2815</td>\n",
       "    </tr>\n",
       "    <tr>\n",
       "      <th>1</th>\n",
       "      <td>1964-02</td>\n",
       "      <td>2672</td>\n",
       "    </tr>\n",
       "    <tr>\n",
       "      <th>2</th>\n",
       "      <td>1964-03</td>\n",
       "      <td>2755</td>\n",
       "    </tr>\n",
       "    <tr>\n",
       "      <th>3</th>\n",
       "      <td>1964-04</td>\n",
       "      <td>2721</td>\n",
       "    </tr>\n",
       "    <tr>\n",
       "      <th>4</th>\n",
       "      <td>1964-05</td>\n",
       "      <td>2946</td>\n",
       "    </tr>\n",
       "  </tbody>\n",
       "</table>\n",
       "</div>"
      ],
      "text/plain": [
       "     Month  Sales\n",
       "0  1964-01   2815\n",
       "1  1964-02   2672\n",
       "2  1964-03   2755\n",
       "3  1964-04   2721\n",
       "4  1964-05   2946"
      ]
     },
     "execution_count": 22,
     "metadata": {},
     "output_type": "execute_result"
    }
   ],
   "source": [
    "def rename_columns(df):\n",
    "    \"\"\"\n",
    "    Renames the columns of the DataFrame to more meaningful names.\n",
    "\n",
    "    Parameters:\n",
    "    df (pd.DataFrame): Original DataFrame with unnamed or generic columns.\n",
    "\n",
    "    \n",
    "    \"\"\"\n",
    "    #code starts here\n",
    "    df = df.rename(columns = {'Month':'Month','Perrin Freres monthly champagne sales millions ?64-?72':'Sales'})\n",
    "    \n",
    "    # code ends here\n",
    "    return df\n",
    "sales = rename_columns(sales)\n",
    "sales.head()"
   ]
  },
  {
   "cell_type": "raw",
   "metadata": {},
   "source": [
    "#### Expected output\n",
    "\n",
    "\tMonth\tSales\n",
    "0\t1964-01\t2815.0\n",
    "1\t1964-02\t2672.0\n",
    "2\t1964-03\t2755.0\n",
    "3\t1964-04\t2721.0\n",
    "4\t1964-05\t2946.0\n"
   ]
  },
  {
   "cell_type": "markdown",
   "metadata": {},
   "source": [
    "#### T1.3 Checking Dataset Shape and Missing Values (weightage - 5 marks) (AE)"
   ]
  },
  {
   "cell_type": "code",
   "execution_count": 23,
   "metadata": {},
   "outputs": [
    {
     "name": "stdout",
     "output_type": "stream",
     "text": [
      "(105, 2)\n",
      "Month    0\n",
      "Sales    0\n",
      "dtype: int64\n"
     ]
    }
   ],
   "source": [
    "def check_dataset_shape_and_nulls(df):\n",
    "    \"\"\"\n",
    "    Prints the shape of the dataset and the count of missing (NaN) values in each column.\n",
    "\n",
    "   \"\"\"\n",
    "    # code starts here\n",
    "    print(df.shape)\n",
    "    print(df.isnull().sum())\n",
    "    # code ends here\n",
    "    \n",
    "check_dataset_shape_and_nulls(sales)\n"
   ]
  },
  {
   "cell_type": "raw",
   "metadata": {},
   "source": [
    "#### Expected output\n",
    "\n",
    "((105, 2),\n",
    " Month    0\n",
    " Sales    0\n",
    " dtype: int64)"
   ]
  },
  {
   "cell_type": "markdown",
   "metadata": {},
   "source": [
    "#### T1.4 convert the 'Month' column to datetime format.  (weightage - 5 marks) (AE)"
   ]
  },
  {
   "cell_type": "code",
   "execution_count": 24,
   "metadata": {},
   "outputs": [
    {
     "data": {
      "text/plain": [
       "Month    datetime64[ns]\n",
       "Sales             int64\n",
       "dtype: object"
      ]
     },
     "execution_count": 24,
     "metadata": {},
     "output_type": "execute_result"
    }
   ],
   "source": [
    "def convert_month_to_datetime(df):\n",
    "        \n",
    "    # Convert 'Month' column to datetime\n",
    "    #code starts here (use errors='coerce')\n",
    "    df[\"Month\"] = pd.to_datetime(df[\"Month\"], errors='coerce')\n",
    "    \n",
    "    # code ends here   \n",
    "    return df.dtypes\n",
    "convert_month_to_datetime(sales)"
   ]
  },
  {
   "cell_type": "raw",
   "metadata": {},
   "source": [
    "#### Expected output\n",
    "Month    datetime64[ns]\n",
    "Sales           float64\n",
    "dtype: object"
   ]
  },
  {
   "cell_type": "markdown",
   "metadata": {},
   "source": [
    "#### T1.5 Set Month column as the index of the DataFrame to prepare it for time series (weightage - 5 marks) (AE)"
   ]
  },
  {
   "cell_type": "code",
   "execution_count": 25,
   "metadata": {},
   "outputs": [
    {
     "data": {
      "text/html": [
       "<div>\n",
       "<style scoped>\n",
       "    .dataframe tbody tr th:only-of-type {\n",
       "        vertical-align: middle;\n",
       "    }\n",
       "\n",
       "    .dataframe tbody tr th {\n",
       "        vertical-align: top;\n",
       "    }\n",
       "\n",
       "    .dataframe thead th {\n",
       "        text-align: right;\n",
       "    }\n",
       "</style>\n",
       "<table border=\"1\" class=\"dataframe\">\n",
       "  <thead>\n",
       "    <tr style=\"text-align: right;\">\n",
       "      <th></th>\n",
       "      <th>Sales</th>\n",
       "    </tr>\n",
       "    <tr>\n",
       "      <th>Month</th>\n",
       "      <th></th>\n",
       "    </tr>\n",
       "  </thead>\n",
       "  <tbody>\n",
       "    <tr>\n",
       "      <th>1964-01-01</th>\n",
       "      <td>2815</td>\n",
       "    </tr>\n",
       "    <tr>\n",
       "      <th>1964-02-01</th>\n",
       "      <td>2672</td>\n",
       "    </tr>\n",
       "    <tr>\n",
       "      <th>1964-03-01</th>\n",
       "      <td>2755</td>\n",
       "    </tr>\n",
       "    <tr>\n",
       "      <th>1964-04-01</th>\n",
       "      <td>2721</td>\n",
       "    </tr>\n",
       "    <tr>\n",
       "      <th>1964-05-01</th>\n",
       "      <td>2946</td>\n",
       "    </tr>\n",
       "  </tbody>\n",
       "</table>\n",
       "</div>"
      ],
      "text/plain": [
       "            Sales\n",
       "Month            \n",
       "1964-01-01   2815\n",
       "1964-02-01   2672\n",
       "1964-03-01   2755\n",
       "1964-04-01   2721\n",
       "1964-05-01   2946"
      ]
     },
     "execution_count": 25,
     "metadata": {},
     "output_type": "execute_result"
    }
   ],
   "source": [
    "def set_column_as_index(df, column_name):\n",
    "    #code starts here\n",
    "    df.set_index(column_name, inplace=True)\n",
    "    # return first 5 observations\n",
    "    return df.head()\n",
    "    # code ends here\n",
    "set_column_as_index(sales,'Month')"
   ]
  },
  {
   "cell_type": "raw",
   "metadata": {},
   "source": [
    "### Expected output\n",
    "            Sales\n",
    "Month\t\n",
    "1964-01-01\t2815.0\n",
    "1964-02-01\t2672.0\n",
    "1964-03-01\t2755.0\n",
    "1964-04-01\t2721.0\n",
    "1964-05-01\t2946.0\n"
   ]
  },
  {
   "cell_type": "markdown",
   "metadata": {},
   "source": [
    "#### T1.6 Plotting for 2 years monthly sales -- to check seasonality: (weightage - 5 marks)  AE"
   ]
  },
  {
   "cell_type": "code",
   "execution_count": 26,
   "metadata": {},
   "outputs": [
    {
     "data": {
      "image/png": "[encoded data removed]",
      "text/plain": [
       "<Figure size 1200x400 with 1 Axes>"
      ]
     },
     "metadata": {},
     "output_type": "display_data"
    }
   ],
   "source": [
    "def get_sales_subset(data, start_date, end_date):\n",
    "    \"\"\"\n",
    "    Filters the sales data for the specified date range .\n",
    "\n",
    "    Parameters:\n",
    "    - data (pd.DataFrame): Time series DataFrame with datetime index.\n",
    "    - start_date (str): Start date in 'YYYY-MM-DD' format.\n",
    "    - end_date (str): End date in 'YYYY-MM-DD' format.\n",
    "\n",
    "    \"\"\"\n",
    "    # code starts here\n",
    "    subset = data[start_date:end_date]\n",
    "    # create plot with figsize : (12,4)\n",
    "    #do not change the given below code\n",
    "    plt.figure(figsize=(12, 4))\n",
    "    plt.plot(subset['Sales'], label='Monthly Sales')\n",
    "    # code ends here\n",
    "    return subset\n",
    "start_date = '1964-01-01'\n",
    "end_date = '1966-01-01'\n",
    "subset = get_sales_subset(sales, start_date, end_date)"
   ]
  },
  {
   "attachments": {
    "image.png": {
     "image/png": "[encoded data removed]"
    }
   },
   "cell_type": "markdown",
   "metadata": {
    "jp-MarkdownHeadingCollapsed": true
   },
   "source": [
    "#### Expected output\n",
    "![image.png](attachment:image.png)"
   ]
  },
  {
   "cell_type": "markdown",
   "metadata": {},
   "source": [
    "#### T1.7. Stationarity Checking: (weightage - 10 marks) AE"
   ]
  },
  {
   "cell_type": "markdown",
   "metadata": {},
   "source": [
    "```A stationary time series is one whose statistical properties, such as mean and variance, remain constant over time.```"
   ]
  },
  {
   "cell_type": "markdown",
   "metadata": {},
   "source": [
    "```Non-stationary time series may exhibit trends or seasonality, making it challenging to model and forecast accurately.```"
   ]
  },
  {
   "cell_type": "markdown",
   "metadata": {},
   "source": [
    "**Here are two popular methods for checking stationarity and their key points:**\n",
    "\n",
    "1. **Visual Incpection:**\n",
    "    \n",
    "        Visual Incpection can provide an overview by plotting the time-series data and visually inspectc for trends or seasonality.\n",
    "\n",
    "2. **Statistical Test:**\n",
    "\n",
    "There are 2 statistical tests to check whether the time series is stationary or not?:\n",
    "* **ADF - Augmented Dickey-Fuller Test**\n",
    "* **Detrending/Differencing**\n",
    "\n",
    "    "
   ]
  },
  {
   "cell_type": "markdown",
   "metadata": {},
   "source": [
    "```Augmented Dickey-Fuller test to check if our data is stationary or not.```"
   ]
  },
  {
   "cell_type": "markdown",
   "metadata": {},
   "source": [
    "**Process to conduct the ADF Test**:"
   ]
  },
  {
   "cell_type": "markdown",
   "metadata": {},
   "source": [
    "- **Method:** A statistical hypothesis test that assesses the presence of a unit root in a univariate time series, indicating non-stationarity.\n",
    "\n",
    "- **Preferred condition**:\n",
    "    1. Rigorous statistical test for stationarity.\n",
    "    2. Suitable for identifying both trend and seasonality in the data.\n",
    "    \n",
    "- **Considerations:**\n",
    "    1. **Null hypothesis (H0):** The time series has a unit root and is non-stationary.\n",
    "    2. **Alternate hypothesis (H1):** The time series does not have a unit root and is stationary.\n",
    "\n",
    "    ```A low p-value (typically below a significance level like 0.05) indicates rejection of the null hypothesis, suggesting stationarity.```"
   ]
  },
  {
   "cell_type": "markdown",
   "metadata": {},
   "source": [
    "```The augmented Dickey–Fuller (ADF) statistic, used in the test, is a negative number. The more negative it is, the stronger the rejection of the hypothesis that there is a [unit root](https://en.wikipedia.org/wiki/Unit_root) at some level of confidence.```"
   ]
  },
  {
   "cell_type": "code",
   "execution_count": null,
   "metadata": {},
   "outputs": [],
   "source": [
    "# from statsmodels.tsa.stattools import adfuller"
   ]
  },
  {
   "cell_type": "markdown",
   "metadata": {},
   "source": [
    "if p value is less than 0.05 , then print \"The series is stationary\" or print \"The series is NOT stationary\"."
   ]
  },
  {
   "cell_type": "code",
   "execution_count": 28,
   "metadata": {},
   "outputs": [
    {
     "name": "stdout",
     "output_type": "stream",
     "text": [
      "The series is NOT stationary\n"
     ]
    }
   ],
   "source": [
    "# Defining a function to check the stationarity:\n",
    "\n",
    "def check_stationarity(ts):\n",
    "    # code starts here\n",
    "    result = adfuller(ts.Sales)\n",
    "    if result[1] <= 0.05:\n",
    "        print('The series is stationary')\n",
    "    else:\n",
    "        print('The series is NOT stationary')\n",
    "\n",
    "           \n",
    "    # code ends here\n",
    "check_stationarity(sales)"
   ]
  },
  {
   "cell_type": "raw",
   "metadata": {},
   "source": [
    "### Expected output:\n",
    "The series is NOT stationary"
   ]
  },
  {
   "cell_type": "markdown",
   "metadata": {},
   "source": [
    "* adfuller gives 5 values: ```['ADF Test Statistic','p-value','#Lags Used','Number of Observations Used', 'critical_value']```\n",
    "* Here, the ```most important is p-value```.\n"
   ]
  },
  {
   "cell_type": "markdown",
   "metadata": {},
   "source": [
    "If result <=0.05, then print \"strong evidence against the null hypothesis(Ho), reject the null hypothesis. Data has no unit root and is stationary\" otherwise print \"weak evidence against null hypothesis, time series has a unit root, indicating it is non-stationary \""
   ]
  },
  {
   "cell_type": "code",
   "execution_count": 33,
   "metadata": {},
   "outputs": [
    {
     "name": "stdout",
     "output_type": "stream",
     "text": [
      "ADF Test Statistic : -1.8335930563276226\n",
      "p-value : 0.3639157716602452\n",
      "#Lags Used : 11\n",
      "Number of Observations Used : 93\n",
      "weak evidence against null hypothesis, time series has a unit root, indicating it is non-stationary\n"
     ]
    }
   ],
   "source": [
    "#Ho: It is non stationary\n",
    "#H1: It is stationary\n",
    "\n",
    "# add  labels = ['ADF Test Statistic','p-value','#Lags Used','Number of Observations Used']\n",
    "def adfuller_test(sales):\n",
    "    # code starts here\n",
    "    result = adfuller(sales)\n",
    "    print(\"ADF Test Statistic :\",result[0])\n",
    "    print(\"p-value :\",result[1])\n",
    "    print(\"#Lags Used :\",result[2])\n",
    "    print(\"Number of Observations Used :\",result[3])\n",
    "    if result[1] <= 0.05:\n",
    "        print('strong evidence against the null hypothesis(Ho), reject the null hypothesis. Data has no unit root and is stationary')\n",
    "    else:\n",
    "        print('weak evidence against null hypothesis, time series has a unit root, indicating it is non-stationary')  \n",
    "    # code ends here\n",
    "# Use above designed function:\n",
    "\n",
    "adfuller_test(sales['Sales'])"
   ]
  },
  {
   "cell_type": "raw",
   "metadata": {},
   "source": [
    "#### Expected Outcome\n",
    "\n",
    "ADF Test Statistic : -1.8335930563276195\n",
    "p-value : 0.3639157716602467\n",
    "#Lags Used : 11\n",
    "Number of Observations Used : 93\n",
    "weak evidence against null hypothesis, time series has a unit root, indicating it is non-stationary "
   ]
  },
  {
   "cell_type": "markdown",
   "metadata": {},
   "source": [
    "### T2. Model Building and Evaluation (weightage - 40 marks) ME"
   ]
  },
  {
   "cell_type": "markdown",
   "metadata": {},
   "source": [
    "#### T2.1 Making Time Series Data --> Stationary:  and Check ADF-Test again on new shifted sales information (weightage -10 marks) ME"
   ]
  },
  {
   "cell_type": "code",
   "execution_count": null,
   "metadata": {},
   "outputs": [],
   "source": []
  },
  {
   "cell_type": "code",
   "execution_count": null,
   "metadata": {},
   "outputs": [],
   "source": []
  },
  {
   "cell_type": "markdown",
   "metadata": {},
   "source": [
    "#### T2.2. Build the time series model - Arima, Sarima and Sarimax . Then Evaluate performance using metrics like MAE, RMSE, MAPE, and visual diagnostics (e.g., residual plots, ACF/PACF of residuals). (weightage - 20 marks) ME"
   ]
  },
  {
   "cell_type": "markdown",
   "metadata": {},
   "source": [
    "* ARIMA model is ```a class of linear models``` that ```utilizes historical values to forecast``` future values. \n",
    "* ARIMA stands for ```Autoregressive Integrated Moving Average```, each of which technique contributes to the final forecast."
   ]
  },
  {
   "cell_type": "code",
   "execution_count": null,
   "metadata": {},
   "outputs": [],
   "source": []
  },
  {
   "cell_type": "markdown",
   "metadata": {},
   "source": [
    "**SARIMA** stands for Seasonal Autoregressive Integrated Moving Average, where each component plays a role in modeling both non-seasonal and seasonal structures in the data:\n",
    "\n",
    "Autoregressive (AR): Uses past values of the series.\n",
    "\n",
    "Integrated (I): Applies differencing to make the series stationary.\n",
    "\n",
    "Moving Average (MA): Uses past forecast errors.\n",
    "\n",
    "Seasonal terms (S): Adds seasonal AR, I, MA components to capture repeating patterns (e.g., monthly or quarterly cycles)"
   ]
  },
  {
   "cell_type": "code",
   "execution_count": null,
   "metadata": {},
   "outputs": [],
   "source": []
  },
  {
   "cell_type": "markdown",
   "metadata": {},
   "source": [
    "#### SARIMAX"
   ]
  },
  {
   "cell_type": "markdown",
   "metadata": {},
   "source": [
    "```(p,d,q), (P, D, Q, s)```"
   ]
  },
  {
   "cell_type": "markdown",
   "metadata": {},
   "source": [
    "* **p - Autoregressive Order** -- represents the numberof lag observations included in the model.\n",
    "* **d - Integrated Order** -- represents the number of differences neede to make the time series stationary.\n",
    "* **q - Moving Average Order** -- specifies the size of the moving avaerage window -- It represents the number of lag foreacst errors in the prediction equation."
   ]
  },
  {
   "cell_type": "markdown",
   "metadata": {},
   "source": [
    "* **P - Seasonal Autoregressive Order** -- similar to p -- but for the seasonal component -- represents the numberof lag observations at seasonal intervals in the autoregressive part of the model.\n",
    "* **D - Seasonal Integrated Order** -- similar to d -- but for the seasonal component -- represents the number of differences needed to make the seasonal part of the time series stationary.\n",
    "* **Q - seasonal Moving Average Order** -- similar to q -- but for the seasonal component -- specifies the size of the seasonal moving avaerage window."
   ]
  },
  {
   "cell_type": "markdown",
   "metadata": {},
   "source": [
    "* **s - Seasonal Periodicity** --defines the number of time steps in a seasonal cycle -- here data has a yearly seasonality -- \"s\" will be 12 for monthly data."
   ]
  },
  {
   "cell_type": "code",
   "execution_count": null,
   "metadata": {},
   "outputs": [],
   "source": []
  },
  {
   "cell_type": "markdown",
   "metadata": {},
   "source": [
    "#### T2.3. Prediction Outcomes (weightage - 10 marks) ME"
   ]
  },
  {
   "cell_type": "code",
   "execution_count": null,
   "metadata": {},
   "outputs": [],
   "source": []
  },
  {
   "cell_type": "markdown",
   "metadata": {},
   "source": [
    "### T3. Summarize the findings of the analysis and draw conclusions with PPT / PDF.\t(weightage - 20 marks) ME"
   ]
  },
  {
   "cell_type": "code",
   "execution_count": null,
   "metadata": {},
   "outputs": [],
   "source": []
  }
 ],
 "metadata": {
  "kernelspec": {
   "display_name": "Python 3 (ipykernel)",
   "language": "python",
   "name": "python3"
  },
  "language_info": {
   "codemirror_mode": {
    "name": "ipython",
    "version": 3
   },
   "file_extension": ".py",
   "mimetype": "text/x-python",
   "name": "python",
   "nbconvert_exporter": "python",
   "pygments_lexer": "ipython3",
   "version": "3.12.3"
  }
 },
 "nbformat": 4,
 "nbformat_minor": 4
}
